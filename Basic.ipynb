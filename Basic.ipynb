{
 "cells": [
  {
   "cell_type": "code",
   "execution_count": 2,
   "metadata": {},
   "outputs": [
    {
     "name": "stdout",
     "output_type": "stream",
     "text": [
      "Sum of number 15 and number 12 is 27\n"
     ]
    }
   ],
   "source": [
    "num1 = 15\n",
    "num2 = 12\n",
    "sum = num1 + num2\n",
    "print(\"Sum of number {0} and number {1} is {2}\".format(num1,num2,sum))"
   ]
  },
  {
   "cell_type": "code",
   "execution_count": 23,
   "metadata": {},
   "outputs": [
    {
     "name": "stdout",
     "output_type": "stream",
     "text": [
      "7\n"
     ]
    },
    {
     "data": {
      "text/plain": [
       "5040"
      ]
     },
     "execution_count": 23,
     "metadata": {},
     "output_type": "execute_result"
    }
   ],
   "source": [
    "def fact(x):\n",
    "    fact = 1\n",
    "    n =x\n",
    "    if x==0 or x==1:\n",
    "        print(\"factorial of {} is 1\".format(x))\n",
    "    while n>=1:\n",
    "        fact = fact * n\n",
    "        n = n-1\n",
    "    return int(fact)\n",
    "x = float(input())\n",
    "fact(x)"
   ]
  },
  {
   "cell_type": "code",
   "execution_count": 38,
   "metadata": {},
   "outputs": [
    {
     "name": "stdout",
     "output_type": "stream",
     "text": [
      "7\n",
      "5040\n"
     ]
    }
   ],
   "source": [
    "def rec_fac(x):\n",
    "    if x == 1:  \n",
    "        return x  \n",
    "    else:\n",
    "        return x * rec_fac(x-1)\n",
    "x = int(input())\n",
    "print(rec_fac(x))"
   ]
  },
  {
   "cell_type": "code",
   "execution_count": 39,
   "metadata": {},
   "outputs": [
    {
     "data": {
      "text/plain": [
       "9"
      ]
     },
     "execution_count": 39,
     "metadata": {},
     "output_type": "execute_result"
    }
   ],
   "source": [
    "pow(3,2)"
   ]
  },
  {
   "cell_type": "code",
   "execution_count": 45,
   "metadata": {},
   "outputs": [
    {
     "name": "stdout",
     "output_type": "stream",
     "text": [
      "1200\n",
      "2\n",
      "5.4\n",
      "Compund Intreset is 1333.0992\n"
     ]
    }
   ],
   "source": [
    "def CI(p,r,t):\n",
    "    return p*pow((1+(r/100)),t) \n",
    "p = float(input())\n",
    "t = float(input())\n",
    "r = float(input())\n",
    "print(\"Compund Intreset is {}\".format(CI(p,r,t)))"
   ]
  },
  {
   "cell_type": "code",
   "execution_count": 11,
   "metadata": {},
   "outputs": [
    {
     "name": "stdout",
     "output_type": "stream",
     "text": [
      "1634\n",
      "It's an armstrong no.\n"
     ]
    }
   ],
   "source": [
    "summ = 0\n",
    "def armstrong(x):\n",
    "    global summ\n",
    "    power = len(str(x))\n",
    "    while (x>0):\n",
    "        summ = summ + pow((x%10),power)\n",
    "        x = x//10\n",
    "    return summ\n",
    "x = int(input())\n",
    "armstrong(x)\n",
    "if summ == x:\n",
    "    print(\"It's an armstrong no.\")\n",
    "else: print(\"It's not an armstrong no.\")"
   ]
  },
  {
   "cell_type": "code",
   "execution_count": 1,
   "metadata": {},
   "outputs": [
    {
     "data": {
      "text/plain": [
       "0"
      ]
     },
     "execution_count": 1,
     "metadata": {},
     "output_type": "execute_result"
    }
   ],
   "source": [
    "1//10"
   ]
  },
  {
   "cell_type": "code",
   "execution_count": 17,
   "metadata": {},
   "outputs": [
    {
     "name": "stdout",
     "output_type": "stream",
     "text": [
      "From where: 1\n",
      "To where: 12\n",
      "2\n",
      "3\n",
      "5\n",
      "7\n",
      "11\n"
     ]
    }
   ],
   "source": [
    "start = int(input(\"From where: \"))\n",
    "end = int(input(\"To where: \"))\n",
    "for i in range(start,end+1):\n",
    "    if (i==2):\n",
    "        print(i)\n",
    "    elif (i>2):\n",
    "        for n in range(2,i):\n",
    "            if (i%n) == 0:\n",
    "                break\n",
    "        else:\n",
    "            print(i)\n",
    "    \n",
    "        \n",
    "        "
   ]
  },
  {
   "cell_type": "code",
   "execution_count": 24,
   "metadata": {},
   "outputs": [
    {
     "name": "stdout",
     "output_type": "stream",
     "text": [
      "Enter the no to check: 199\n",
      "199 is a Prime Number\n"
     ]
    }
   ],
   "source": [
    "num = int(input(\"Enter the no to check: \"))\n",
    "if num>1:\n",
    "    for i in range(2,num):\n",
    "        if (num%i) == 0:\n",
    "            print(\"Not a Prime Number\")\n",
    "            break\n",
    "    else: print(\"{} is a Prime Number\".format(num))\n",
    "        "
   ]
  },
  {
   "cell_type": "code",
   "execution_count": 4,
   "metadata": {},
   "outputs": [
    {
     "name": "stdout",
     "output_type": "stream",
     "text": [
      "377\n"
     ]
    }
   ],
   "source": [
    "#fibonacci number for nth term\n",
    "def fib(n):\n",
    "    if n == 1:\n",
    "        return 0\n",
    "    if n == 2:\n",
    "        return 1\n",
    "    else:\n",
    "        return fib(n-1) + fib(n-2)\n",
    "print(fib(15))"
   ]
  },
  {
   "cell_type": "code",
   "execution_count": 10,
   "metadata": {},
   "outputs": [
    {
     "name": "stdout",
     "output_type": "stream",
     "text": [
      "5\n",
      "0\n",
      "1\n",
      "1\n",
      "2\n",
      "3\n",
      "5\n"
     ]
    }
   ],
   "source": [
    "#finbonacci series without using recurrsion\n",
    "a = 0\n",
    "b = 1\n",
    "n = int(input())\n",
    "for i in range(0,n+1):\n",
    "    if i==0 or i==1:\n",
    "        print(i)\n",
    "    else:\n",
    "        fib = a+b\n",
    "        print(fib)\n",
    "        a=b\n",
    "        b=fib\n",
    "        "
   ]
  },
  {
   "cell_type": "code",
   "execution_count": 14,
   "metadata": {},
   "outputs": [
    {
     "name": "stdout",
     "output_type": "stream",
     "text": [
      "0\n",
      "1\n",
      "1\n",
      "2\n",
      "3\n",
      "5\n",
      "8\n",
      "13\n",
      "21\n",
      "34\n"
     ]
    }
   ],
   "source": [
    "def fib(n):\n",
    "        if n == 0 or n == 1:\n",
    "            return n\n",
    "        return fib(n-1) + fib(n-2)\n",
    "num = 10\n",
    "for i in range(num):\n",
    "    print(fib(i))"
   ]
  },
  {
   "cell_type": "code",
   "execution_count": 21,
   "metadata": {},
   "outputs": [
    {
     "name": "stdout",
     "output_type": "stream",
     "text": [
      "Number to check: 8\n",
      "It's an fibonacci number: \n"
     ]
    }
   ],
   "source": [
    "import math\n",
    "def isperfectsquare(n):\n",
    "    x = int(math.sqrt(n))\n",
    "    return n == x*x\n",
    "def isfibonacci(num):\n",
    "    return isperfectsquare(5*num*num+4) or isperfectsquare(5*num*num-4)\n",
    "num = int(input(\"Number to check: \"))\n",
    "if (isfibonacci(num) == True):\n",
    "    print(\"It's an fibonacci number: \")\n",
    "else:\n",
    "    print(\"It's not an fibonacci number\")\n",
    "   "
   ]
  },
  {
   "cell_type": "code",
   "execution_count": 44,
   "metadata": {},
   "outputs": [
    {
     "name": "stdout",
     "output_type": "stream",
     "text": [
      "Enter the character: g\n",
      "103\n"
     ]
    }
   ],
   "source": [
    "x = input(\"Enter the character: \")\n",
    "print(ord(x))"
   ]
  },
  {
   "cell_type": "code",
   "execution_count": 46,
   "metadata": {},
   "outputs": [
    {
     "name": "stdout",
     "output_type": "stream",
     "text": [
      "Enter the limit: 4\n",
      "30\n"
     ]
    }
   ],
   "source": [
    "sum = 0\n",
    "n = int(input(\"Enter the limit: \"))\n",
    "for i in range(1,n+1):\n",
    "    sum = sum + i**2\n",
    "print(sum)"
   ]
  },
  {
   "cell_type": "code",
   "execution_count": 47,
   "metadata": {},
   "outputs": [
    {
     "name": "stdout",
     "output_type": "stream",
     "text": [
      "Enter the limit: 5\n",
      "225\n"
     ]
    }
   ],
   "source": [
    "sum = 0\n",
    "n = int(input(\"Enter the limit: \"))\n",
    "for i in range(1,n+1):\n",
    "    sum = sum + i**3\n",
    "print(sum)"
   ]
  },
  {
   "cell_type": "code",
   "execution_count": null,
   "metadata": {},
   "outputs": [],
   "source": []
  }
 ],
 "metadata": {
  "kernelspec": {
   "display_name": "Python 3",
   "language": "python",
   "name": "python3"
  },
  "language_info": {
   "codemirror_mode": {
    "name": "ipython",
    "version": 3
   },
   "file_extension": ".py",
   "mimetype": "text/x-python",
   "name": "python",
   "nbconvert_exporter": "python",
   "pygments_lexer": "ipython3",
   "version": "3.7.6"
  }
 },
 "nbformat": 4,
 "nbformat_minor": 4
}
